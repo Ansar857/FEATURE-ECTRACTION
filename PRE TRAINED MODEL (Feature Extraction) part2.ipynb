{
 "cells": [
  {
   "cell_type": "markdown",
   "id": "8d221c6b",
   "metadata": {},
   "source": [
    "# Instantiating the VGG16 convolutional base\n",
    "\n"
   ]
  },
  {
   "cell_type": "code",
   "execution_count": 1,
   "id": "6d95b909",
   "metadata": {},
   "outputs": [],
   "source": [
    "from tensorflow.keras.applications import VGG16\n",
    "conv_base = VGG16(weights='imagenet',\n",
    "include_top=False,\n",
    "input_shape=(150, 150, 3))"
   ]
  },
  {
   "cell_type": "code",
   "execution_count": 2,
   "id": "09667270",
   "metadata": {},
   "outputs": [
    {
     "name": "stdout",
     "output_type": "stream",
     "text": [
      "Model: \"vgg16\"\n",
      "_________________________________________________________________\n",
      " Layer (type)                Output Shape              Param #   \n",
      "=================================================================\n",
      " input_1 (InputLayer)        [(None, 150, 150, 3)]     0         \n",
      "                                                                 \n",
      " block1_conv1 (Conv2D)       (None, 150, 150, 64)      1792      \n",
      "                                                                 \n",
      " block1_conv2 (Conv2D)       (None, 150, 150, 64)      36928     \n",
      "                                                                 \n",
      " block1_pool (MaxPooling2D)  (None, 75, 75, 64)        0         \n",
      "                                                                 \n",
      " block2_conv1 (Conv2D)       (None, 75, 75, 128)       73856     \n",
      "                                                                 \n",
      " block2_conv2 (Conv2D)       (None, 75, 75, 128)       147584    \n",
      "                                                                 \n",
      " block2_pool (MaxPooling2D)  (None, 37, 37, 128)       0         \n",
      "                                                                 \n",
      " block3_conv1 (Conv2D)       (None, 37, 37, 256)       295168    \n",
      "                                                                 \n",
      " block3_conv2 (Conv2D)       (None, 37, 37, 256)       590080    \n",
      "                                                                 \n",
      " block3_conv3 (Conv2D)       (None, 37, 37, 256)       590080    \n",
      "                                                                 \n",
      " block3_pool (MaxPooling2D)  (None, 18, 18, 256)       0         \n",
      "                                                                 \n",
      " block4_conv1 (Conv2D)       (None, 18, 18, 512)       1180160   \n",
      "                                                                 \n",
      " block4_conv2 (Conv2D)       (None, 18, 18, 512)       2359808   \n",
      "                                                                 \n",
      " block4_conv3 (Conv2D)       (None, 18, 18, 512)       2359808   \n",
      "                                                                 \n",
      " block4_pool (MaxPooling2D)  (None, 9, 9, 512)         0         \n",
      "                                                                 \n",
      " block5_conv1 (Conv2D)       (None, 9, 9, 512)         2359808   \n",
      "                                                                 \n",
      " block5_conv2 (Conv2D)       (None, 9, 9, 512)         2359808   \n",
      "                                                                 \n",
      " block5_conv3 (Conv2D)       (None, 9, 9, 512)         2359808   \n",
      "                                                                 \n",
      " block5_pool (MaxPooling2D)  (None, 4, 4, 512)         0         \n",
      "                                                                 \n",
      "=================================================================\n",
      "Total params: 14,714,688\n",
      "Trainable params: 14,714,688\n",
      "Non-trainable params: 0\n",
      "_________________________________________________________________\n"
     ]
    }
   ],
   "source": [
    " conv_base.summary()"
   ]
  },
  {
   "cell_type": "markdown",
   "id": "66a2d843",
   "metadata": {},
   "source": [
    "# Extracting features using the pretrained convolutional base"
   ]
  },
  {
   "cell_type": "code",
   "execution_count": 5,
   "id": "4a5b6d51",
   "metadata": {},
   "outputs": [],
   "source": [
    "train_dir ='E:/CAT AND DOG/train'\n",
    "validation_dir ='E:/CAT AND DOG/validation' \n",
    "test_dir = 'E:/CAT AND DOG/test'"
   ]
  },
  {
   "cell_type": "code",
   "execution_count": 4,
   "id": "e3772d91",
   "metadata": {},
   "outputs": [
    {
     "name": "stdout",
     "output_type": "stream",
     "text": [
      "Found 2000 images belonging to 2 classes.\n",
      "Found 1000 images belonging to 2 classes.\n",
      "Found 1000 images belonging to 2 classes.\n"
     ]
    }
   ],
   "source": [
    "import os\n",
    "import numpy as np\n",
    "from keras.preprocessing.image import ImageDataGenerator\n",
    "datagen = ImageDataGenerator(rescale=1./255)\n",
    "batch_size = 20\n",
    "def extract_features(directory, sample_count):\n",
    "    features = np.zeros(shape=(sample_count, 4, 4, 512))\n",
    "    labels = np.zeros(shape=(sample_count))\n",
    "    generator = datagen.flow_from_directory(\n",
    "        directory,\n",
    "        target_size=(150, 150),\n",
    "        batch_size=batch_size,\n",
    "        class_mode='binary')\n",
    "    i=0\n",
    "    for inputs_batch, labels_batch in generator:\n",
    "        features_batch = conv_base.predict(inputs_batch)\n",
    "        features[i * batch_size : (i + 1) * batch_size] = features_batch\n",
    "        labels[i * batch_size : (i + 1) * batch_size] = labels_batch\n",
    "        i += 1\n",
    "        if i * batch_size >= sample_count:\n",
    "                break\n",
    "    return features, labels\n",
    "train_features, train_labels = extract_features(train_dir, 2000)\n",
    "validation_features, validation_labels = extract_features(validation_dir, 1000)\n",
    "test_features, test_labels = extract_features(test_dir, 1000)"
   ]
  },
  {
   "cell_type": "code",
   "execution_count": 5,
   "id": "fc3db066",
   "metadata": {},
   "outputs": [],
   "source": [
    "train_features = np.reshape(train_features, (2000, 4*4* 512))\n",
    "validation_features = np.reshape(validation_features, (1000, 4*4* 512))\n",
    "test_features = np.reshape(test_features, (1000, 4*4* 512))"
   ]
  },
  {
   "cell_type": "markdown",
   "id": "acad65a4",
   "metadata": {},
   "source": [
    "# Defining and training the densely connected classifier"
   ]
  },
  {
   "cell_type": "code",
   "execution_count": 6,
   "id": "b9f30e3a",
   "metadata": {},
   "outputs": [
    {
     "name": "stderr",
     "output_type": "stream",
     "text": [
      "E:\\Anaconda\\lib\\site-packages\\keras\\optimizer_v2\\rmsprop.py:130: UserWarning: The `lr` argument is deprecated, use `learning_rate` instead.\n",
      "  super(RMSprop, self).__init__(name, **kwargs)\n"
     ]
    }
   ],
   "source": [
    "from tensorflow.keras import models\n",
    "from tensorflow.keras import layers\n",
    "from tensorflow.keras import optimizers\n",
    "model = models.Sequential()\n",
    "model.add(layers.Dense(256, activation='relu', input_dim=4 * 4 * 512))\n",
    "model.add(layers.Dropout(0.5))\n",
    "model.add(layers.Dense(1, activation='sigmoid'))\n",
    "model.compile(optimizer=optimizers.RMSprop(lr=2e-5),\n",
    "    loss='binary_crossentropy',\n",
    "    metrics=['acc'])\n"
   ]
  },
  {
   "cell_type": "code",
   "execution_count": 7,
   "id": "2760a8f6",
   "metadata": {},
   "outputs": [
    {
     "name": "stdout",
     "output_type": "stream",
     "text": [
      "Epoch 1/30\n",
      "100/100 [==============================] - 5s 33ms/step - loss: 0.5949 - acc: 0.6800 - val_loss: 0.4499 - val_acc: 0.8290\n",
      "Epoch 2/30\n",
      "100/100 [==============================] - 3s 30ms/step - loss: 0.4329 - acc: 0.8055 - val_loss: 0.3820 - val_acc: 0.8370\n",
      "Epoch 3/30\n",
      "100/100 [==============================] - 3s 30ms/step - loss: 0.3596 - acc: 0.8500 - val_loss: 0.3390 - val_acc: 0.8570\n",
      "Epoch 4/30\n",
      "100/100 [==============================] - 3s 30ms/step - loss: 0.3192 - acc: 0.8680 - val_loss: 0.3242 - val_acc: 0.8560\n",
      "Epoch 5/30\n",
      "100/100 [==============================] - 3s 31ms/step - loss: 0.2956 - acc: 0.8810 - val_loss: 0.3145 - val_acc: 0.8570\n",
      "Epoch 6/30\n",
      "100/100 [==============================] - 3s 31ms/step - loss: 0.2749 - acc: 0.8890 - val_loss: 0.2945 - val_acc: 0.8760\n",
      "Epoch 7/30\n",
      "100/100 [==============================] - 3s 32ms/step - loss: 0.2522 - acc: 0.9060 - val_loss: 0.2971 - val_acc: 0.8700\n",
      "Epoch 8/30\n",
      "100/100 [==============================] - 3s 31ms/step - loss: 0.2324 - acc: 0.9105 - val_loss: 0.2783 - val_acc: 0.8760\n",
      "Epoch 9/30\n",
      "100/100 [==============================] - 3s 30ms/step - loss: 0.2252 - acc: 0.9140 - val_loss: 0.2936 - val_acc: 0.8670\n",
      "Epoch 10/30\n",
      "100/100 [==============================] - 3s 30ms/step - loss: 0.2120 - acc: 0.9210 - val_loss: 0.2755 - val_acc: 0.8850\n",
      "Epoch 11/30\n",
      "100/100 [==============================] - 3s 30ms/step - loss: 0.2005 - acc: 0.9270 - val_loss: 0.2672 - val_acc: 0.8910\n",
      "Epoch 12/30\n",
      "100/100 [==============================] - 3s 31ms/step - loss: 0.1968 - acc: 0.9280 - val_loss: 0.2882 - val_acc: 0.8660\n",
      "Epoch 13/30\n",
      "100/100 [==============================] - 3s 30ms/step - loss: 0.1875 - acc: 0.9340 - val_loss: 0.2655 - val_acc: 0.8910\n",
      "Epoch 14/30\n",
      "100/100 [==============================] - 3s 30ms/step - loss: 0.1769 - acc: 0.9365 - val_loss: 0.2586 - val_acc: 0.8880\n",
      "Epoch 15/30\n",
      "100/100 [==============================] - 3s 30ms/step - loss: 0.1720 - acc: 0.9355 - val_loss: 0.2679 - val_acc: 0.8850\n",
      "Epoch 16/30\n",
      "100/100 [==============================] - 3s 30ms/step - loss: 0.1600 - acc: 0.9450 - val_loss: 0.2555 - val_acc: 0.8870\n",
      "Epoch 17/30\n",
      "100/100 [==============================] - 3s 30ms/step - loss: 0.1509 - acc: 0.9495 - val_loss: 0.2560 - val_acc: 0.8910\n",
      "Epoch 18/30\n",
      "100/100 [==============================] - 3s 30ms/step - loss: 0.1458 - acc: 0.9470 - val_loss: 0.2686 - val_acc: 0.8800\n",
      "Epoch 19/30\n",
      "100/100 [==============================] - 3s 30ms/step - loss: 0.1422 - acc: 0.9505 - val_loss: 0.2551 - val_acc: 0.8880\n",
      "Epoch 20/30\n",
      "100/100 [==============================] - 3s 30ms/step - loss: 0.1332 - acc: 0.9590 - val_loss: 0.2562 - val_acc: 0.8870\n",
      "Epoch 21/30\n",
      "100/100 [==============================] - 3s 30ms/step - loss: 0.1311 - acc: 0.9590 - val_loss: 0.2535 - val_acc: 0.8900\n",
      "Epoch 22/30\n",
      "100/100 [==============================] - 3s 30ms/step - loss: 0.1246 - acc: 0.9595 - val_loss: 0.2579 - val_acc: 0.8880\n",
      "Epoch 23/30\n",
      "100/100 [==============================] - 3s 30ms/step - loss: 0.1129 - acc: 0.9660 - val_loss: 0.2539 - val_acc: 0.8890\n",
      "Epoch 24/30\n",
      "100/100 [==============================] - 3s 30ms/step - loss: 0.1161 - acc: 0.9640 - val_loss: 0.2537 - val_acc: 0.8890\n",
      "Epoch 25/30\n",
      "100/100 [==============================] - 3s 30ms/step - loss: 0.1076 - acc: 0.9695 - val_loss: 0.2575 - val_acc: 0.8910\n",
      "Epoch 26/30\n",
      "100/100 [==============================] - 3s 30ms/step - loss: 0.1072 - acc: 0.9670 - val_loss: 0.2548 - val_acc: 0.8830\n",
      "Epoch 27/30\n",
      "100/100 [==============================] - 3s 31ms/step - loss: 0.0989 - acc: 0.9725 - val_loss: 0.2566 - val_acc: 0.8820\n",
      "Epoch 28/30\n",
      "100/100 [==============================] - 3s 30ms/step - loss: 0.0965 - acc: 0.9690 - val_loss: 0.2592 - val_acc: 0.8860\n",
      "Epoch 29/30\n",
      "100/100 [==============================] - 3s 31ms/step - loss: 0.0938 - acc: 0.9730 - val_loss: 0.2580 - val_acc: 0.8850\n",
      "Epoch 30/30\n",
      "100/100 [==============================] - 3s 30ms/step - loss: 0.0904 - acc: 0.9735 - val_loss: 0.2596 - val_acc: 0.8860\n"
     ]
    }
   ],
   "source": [
    "history = model.fit(train_features, train_labels,\n",
    "                    epochs=30,\n",
    "                    batch_size=20,\n",
    "                    validation_data=(validation_features, validation_labels))"
   ]
  },
  {
   "cell_type": "markdown",
   "id": "506454e5",
   "metadata": {},
   "source": [
    "# Plotting the results"
   ]
  },
  {
   "cell_type": "code",
   "execution_count": 8,
   "id": "277ffb33",
   "metadata": {},
   "outputs": [
    {
     "name": "stderr",
     "output_type": "stream",
     "text": [
      "Matplotlib is building the font cache; this may take a moment.\n"
     ]
    },
    {
     "data": {
      "image/png": "[encoded data removed]",
      "text/plain": [
       "<Figure size 432x288 with 1 Axes>"
      ]
     },
     "metadata": {
      "needs_background": "light"
     },
     "output_type": "display_data"
    },
    {
     "data": {
      "image/png": "[encoded data removed]",
      "text/plain": [
       "<Figure size 432x288 with 1 Axes>"
      ]
     },
     "metadata": {
      "needs_background": "light"
     },
     "output_type": "display_data"
    }
   ],
   "source": [
    "import matplotlib.pyplot as plt\n",
    "acc = history.history['acc']\n",
    "val_acc = history.history['val_acc']\n",
    "loss = history.history['loss']\n",
    "val_loss = history.history['val_loss']\n",
    "epochs = range(1, len(acc) + 1)\n",
    "plt.plot(epochs, acc, 'bo', label='Training acc')\n",
    "plt.plot(epochs, val_acc, 'b', label='Validation acc')\n",
    "plt.title('Training and validation accuracy')\n",
    "plt.legend()\n",
    "plt.figure()\n",
    "plt.plot(epochs, loss, 'bo', label='Training loss')\n",
    "plt.plot(epochs, val_loss, 'b', label='Validation loss')\n",
    "plt.title('Training and validation loss')\n",
    "plt.legend()\n",
    "plt.show()"
   ]
  },
  {
   "cell_type": "markdown",
   "id": "f4a03e79",
   "metadata": {},
   "source": [
    "# Adding a densely connected classifier on top of the convolutional base\n"
   ]
  },
  {
   "cell_type": "code",
   "execution_count": 8,
   "id": "06df8bad",
   "metadata": {},
   "outputs": [],
   "source": [
    "from keras import models\n",
    "from keras import layers\n",
    "model = models.Sequential()\n",
    "model.add(conv_base)\n",
    "model.add(layers.Flatten())\n",
    "model.add(layers.Dense(256, activation='relu'))\n",
    "model.add(layers.Dense(1, activation='sigmoid'))"
   ]
  },
  {
   "cell_type": "code",
   "execution_count": 9,
   "id": "8d2e1e87",
   "metadata": {},
   "outputs": [
    {
     "name": "stdout",
     "output_type": "stream",
     "text": [
      "Model: \"sequential\"\n",
      "_________________________________________________________________\n",
      " Layer (type)                Output Shape              Param #   \n",
      "=================================================================\n",
      " vgg16 (Functional)          (None, 4, 4, 512)         14714688  \n",
      "                                                                 \n",
      " flatten (Flatten)           (None, 8192)              0         \n",
      "                                                                 \n",
      " dense (Dense)               (None, 256)               2097408   \n",
      "                                                                 \n",
      " dense_1 (Dense)             (None, 1)                 257       \n",
      "                                                                 \n",
      "=================================================================\n",
      "Total params: 16,812,353\n",
      "Trainable params: 16,812,353\n",
      "Non-trainable params: 0\n",
      "_________________________________________________________________\n"
     ]
    }
   ],
   "source": [
    "model.summary()"
   ]
  },
  {
   "cell_type": "markdown",
   "id": "5f87449a",
   "metadata": {},
   "source": [
    "# Training the model end to end with a frozen convolutional base"
   ]
  },
  {
   "cell_type": "code",
   "execution_count": 10,
   "id": "595852c6",
   "metadata": {},
   "outputs": [],
   "source": [
    "from tensorflow.keras.preprocessing.image import ImageDataGenerator\n",
    "from tensorflow.keras import optimizers\n",
    "train_datagen = ImageDataGenerator(\n",
    "rescale=1./255,\n",
    "rotation_range=40,\n",
    "width_shift_range=0.2,\n",
    "height_shift_range=0.2,\n",
    "shear_range=0.2,\n",
    "zoom_range=0.2,\n",
    "horizontal_flip=True,\n",
    "fill_mode='nearest')"
   ]
  },
  {
   "cell_type": "code",
   "execution_count": 11,
   "id": "bcdf78d4",
   "metadata": {},
   "outputs": [
    {
     "name": "stdout",
     "output_type": "stream",
     "text": [
      "Found 2000 images belonging to 2 classes.\n",
      "Found 1000 images belonging to 2 classes.\n"
     ]
    }
   ],
   "source": [
    "test_datagen = ImageDataGenerator(rescale=1./255)\n",
    "train_generator = train_datagen.flow_from_directory(\n",
    "train_dir,\n",
    "target_size=(150, 150),\n",
    "batch_size=10,\n",
    "class_mode='binary')\n",
    "validation_generator = test_datagen.flow_from_directory(\n",
    "validation_dir,\n",
    "target_size=(150, 150),\n",
    "batch_size=10,\n",
    "class_mode='binary')"
   ]
  },
  {
   "cell_type": "code",
   "execution_count": null,
   "id": "ca9eec1d",
   "metadata": {},
   "outputs": [
    {
     "name": "stderr",
     "output_type": "stream",
     "text": [
      "E:\\Anaconda\\lib\\site-packages\\keras\\optimizer_v2\\rmsprop.py:130: UserWarning: The `lr` argument is deprecated, use `learning_rate` instead.\n",
      "  super(RMSprop, self).__init__(name, **kwargs)\n"
     ]
    },
    {
     "name": "stdout",
     "output_type": "stream",
     "text": [
      "Epoch 1/10\n",
      " 9/10 [==========================>...] - ETA: 10s - loss: 0.7722 - acc: 0.4667"
     ]
    }
   ],
   "source": [
    "model.compile(loss='binary_crossentropy',\n",
    "                optimizer=optimizers.RMSprop(lr=2e-5),\n",
    "                metrics=['acc'])\n",
    "\n",
    "history = model.fit(train_generator,\n",
    "                    steps_per_epoch=10,\n",
    "                    epochs=10,\n",
    "                    validation_data=validation_generator,\n",
    "                    validation_steps=25)"
   ]
  },
  {
   "cell_type": "code",
   "execution_count": null,
   "id": "430f49ef",
   "metadata": {},
   "outputs": [],
   "source": [
    "import matplotlib.pyplot as plt\n",
    "acc = history.history['acc']\n",
    "val_acc = history.history['val_acc']\n",
    "loss = history.history['loss']\n",
    "val_loss = history.history['val_loss']\n",
    "epochs = range(1, len(acc) + 1)\n",
    "plt.plot(epochs, acc, 'bo', label='Training acc')\n",
    "plt.plot(epochs, val_acc, 'b', label='Validation acc')\n",
    "plt.title('Training and validation accuracy')\n",
    "plt.legend()\n",
    "plt.figure()\n",
    "plt.plot(epochs, loss, 'bo', label='Training loss')\n",
    "plt.plot(epochs, val_loss, 'b', label='Validation loss')\n",
    "plt.title('Training and validation loss')\n",
    "plt.legend()\n",
    "plt.show()"
   ]
  }
 ],
 "metadata": {
  "kernelspec": {
   "display_name": "Python 3",
   "language": "python",
   "name": "python3"
  },
  "language_info": {
   "codemirror_mode": {
    "name": "ipython",
    "version": 3
   },
   "file_extension": ".py",
   "mimetype": "text/x-python",
   "name": "python",
   "nbconvert_exporter": "python",
   "pygments_lexer": "ipython3",
   "version": "3.8.8"
  }
 },
 "nbformat": 4,
 "nbformat_minor": 5
}
